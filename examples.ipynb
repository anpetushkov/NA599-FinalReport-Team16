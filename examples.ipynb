{
 "cells": [
  {
   "cell_type": "code",
   "execution_count": 1,
   "metadata": {},
   "outputs": [
    {
     "name": "stdout",
     "output_type": "stream",
     "text": [
      "Intel MKL WARNING: Support of Intel(R) Streaming SIMD Extensions 4.2 (Intel(R) SSE4.2) enabled only processors has been deprecated. Intel oneAPI Math Kernel Library 2025.0 will require Intel(R) Advanced Vector Extensions (Intel(R) AVX) instructions.\n",
      "Intel MKL WARNING: Support of Intel(R) Streaming SIMD Extensions 4.2 (Intel(R) SSE4.2) enabled only processors has been deprecated. Intel oneAPI Math Kernel Library 2025.0 will require Intel(R) Advanced Vector Extensions (Intel(R) AVX) instructions.\n"
     ]
    }
   ],
   "source": [
    "import autograd.numpy as anp\n",
    "import numpy as np\n",
    "import numpy.typing as npt\n",
    "import pymanopt\n",
    "\n",
    "from manifold_optimization import ManifoldDOE, ManifoldSolver, run_experiment"
   ]
  },
  {
   "cell_type": "code",
   "execution_count": 2,
   "metadata": {},
   "outputs": [
    {
     "name": "stderr",
     "output_type": "stream",
     "text": [
      "/Users/antonpetushkov/miniforge3/envs/na599/lib/python3.9/site-packages/autograd/tracer.py:14: UserWarning: Output seems independent of input.\n",
      "  warnings.warn(\"Output seems independent of input.\")\n"
     ]
    },
    {
     "name": "stdout",
     "output_type": "stream",
     "text": [
      "Point found: [[-1.00000000e+00  7.00964304e-06  1.36596621e-09]\n",
      " [-7.00964304e-06 -1.00000000e+00 -9.98133813e-09]\n",
      " [ 1.36589625e-09 -9.98134770e-09  1.00000000e+00]]; iterations run: 1314; stopping reason: Gradient norm too small!\n"
     ]
    }
   ],
   "source": [
    "manifold = pymanopt.manifolds.SpecialOrthogonalGroup(3)\n",
    "\n",
    "\n",
    "def cost(point):\n",
    "  return anp.sum(anp.diag(point))\n",
    "\n",
    "\n",
    "def constraint(point):\n",
    "  return point[-1][-1] - 1 # forces result into a xy rotation matrix with bottom right corodinate = 1\n",
    "\n",
    "\n",
    "def constraint2(point):\n",
    "  return 0. # always satisfied\n",
    "\n",
    "\n",
    "result = run_experiment(manifold, cost, [constraint, constraint2], max_iterations=10_000)"
   ]
  },
  {
   "cell_type": "code",
   "execution_count": 3,
   "metadata": {},
   "outputs": [
    {
     "name": "stdout",
     "output_type": "stream",
     "text": [
      "[[-1.00000000e+00  7.00964304e-06  1.36596621e-09]\n",
      " [-7.00964304e-06 -1.00000000e+00 -9.98133813e-09]\n",
      " [ 1.36589625e-09 -9.98134770e-09  1.00000000e+00]] 1314\n"
     ]
    }
   ],
   "source": [
    "manifold = pymanopt.manifolds.SpecialOrthogonalGroup(3)\n",
    "\n",
    "\n",
    "@pymanopt.function.autograd(manifold)\n",
    "def cost(point):\n",
    "  return anp.sum(anp.diag(point))\n",
    "\n",
    "\n",
    "@pymanopt.function.autograd(manifold)\n",
    "def constraint(point):\n",
    "  return point[-1][-1] - 1 # forces result into a xy rotation matrix with bottom right corodinate = 1\n",
    "\n",
    "\n",
    "@pymanopt.function.autograd(manifold)\n",
    "def constraint2(point):\n",
    "  return 0. # always satisfied\n",
    "\n",
    "\n",
    "problem = ManifoldDOE(manifold, cost, [constraint])\n",
    "solver = ManifoldSolver(max_iterations=10_000)\n",
    "result = solver.run(problem)\n",
    "print(result.point, result.iterations)"
   ]
  },
  {
   "cell_type": "code",
   "execution_count": 4,
   "metadata": {},
   "outputs": [
    {
     "name": "stdout",
     "output_type": "stream",
     "text": [
      "[-0.24999939 -0.49999953  0.82915667] 129\n"
     ]
    }
   ],
   "source": [
    "manifold = pymanopt.manifolds.Sphere(3)\n",
    "\n",
    "\n",
    "@pymanopt.function.autograd(manifold)\n",
    "def cost(point: npt.NDArray):\n",
    "  (x, y, z) = point\n",
    "  return 100 * x**2 + (y + (1 - x)**2)**2\n",
    "\n",
    "\n",
    "@pymanopt.function.autograd(manifold)\n",
    "def constraint(point: npt.NDArray):\n",
    "  (x, y, z) = point\n",
    "  return x + y ** 2\n",
    "\n",
    "\n",
    "@pymanopt.function.autograd(manifold)\n",
    "def constraint1(point: npt.NDArray):\n",
    "  (x, y, z) = point\n",
    "  return 0.75 + x + y\n",
    "\n",
    "\n",
    "problem = ManifoldDOE(manifold, cost, [constraint, constraint1])\n",
    "solver = ManifoldSolver(max_iterations=10000)\n",
    "result = solver.run(problem)\n",
    "print(result.point, result.iterations)"
   ]
  },
  {
   "cell_type": "code",
   "execution_count": 5,
   "metadata": {},
   "outputs": [
    {
     "name": "stdout",
     "output_type": "stream",
     "text": [
      "[8.77273753e-06 9.68245837e-01 2.50000000e-01] 923\n"
     ]
    }
   ],
   "source": [
    "manifold = pymanopt.manifolds.Sphere(3)\n",
    "\n",
    "\n",
    "@pymanopt.function.autograd(manifold)\n",
    "def cost(point: npt.NDArray):\n",
    "  (x, y, z) = point\n",
    "  return x**2 - y + z**3\n",
    "\n",
    "\n",
    "@pymanopt.function.autograd(manifold)\n",
    "def constraint(point: npt.NDArray):\n",
    "  (x, y, z) = point\n",
    "  theta = anp.arccos(x / anp.sqrt(x**2 + y**2))\n",
    "  return z - 0.5 * (anp.cos(2 * theta))**2 + 0.25\n",
    "\n",
    "\n",
    "@pymanopt.function.autograd(manifold)\n",
    "def constraint1(point: npt.NDArray):\n",
    "  (x, y, z) = point\n",
    "  return 0.75 + x + y\n",
    "\n",
    "\n",
    "problem = ManifoldDOE(manifold, cost, [constraint])\n",
    "solver = ManifoldSolver(max_iterations=10000)\n",
    "result = solver.run(problem, initial_point=np.asarray([1, 1, 1]) / anp.sqrt(3))\n",
    "print(result.point, result.iterations)"
   ]
  },
  {
   "cell_type": "code",
   "execution_count": 6,
   "metadata": {},
   "outputs": [
    {
     "name": "stdout",
     "output_type": "stream",
     "text": [
      "[1.00000451 1.00000892] 9982\n"
     ]
    }
   ],
   "source": [
    "#need to change step size to 0.01 to reproduce results\n",
    "manifold = pymanopt.manifolds.Euclidean(2)\n",
    "\n",
    "@pymanopt.function.autograd(manifold)\n",
    "def cost(point):\n",
    "  (x, y) = point\n",
    "  return (1 - x)**2 + 100*(y - x**2)**2\n",
    "\n",
    "@pymanopt.function.autograd(manifold)\n",
    "def constraint(point):\n",
    "  (x, y) = point\n",
    "  return (x - 1)**2 + y**2 - 1\n",
    "\n",
    "problem = ManifoldDOE(manifold, cost, [constraint])\n",
    "solver = ManifoldSolver(max_iterations=10000)\n",
    "result = solver.run(problem, np.array([2, 0.5]), step_size=0.01)\n",
    "print(result.point, result.iterations)"
   ]
  },
  {
   "cell_type": "code",
   "execution_count": 7,
   "metadata": {},
   "outputs": [
    {
     "name": "stdout",
     "output_type": "stream",
     "text": [
      "Point found: [1.00000451 1.00000892]; iterations run: 9982; stopping reason: Gradient norm too small!\n"
     ]
    }
   ],
   "source": [
    "#need to change step size to 0.01 to reproduce results\n",
    "manifold = pymanopt.manifolds.Euclidean(2)\n",
    "\n",
    "def cost(point):\n",
    "  (x, y) = point\n",
    "  return (1 - x)**2 + 100*(y - x**2)**2\n",
    "\n",
    "def constraint(point):\n",
    "  (x, y) = point\n",
    "  return (x - 1)**2 + y**2 - 1\n",
    "\n",
    "result = run_experiment(manifold, cost, [constraint], max_iterations=10_000, step_size=0.01, initial_point=np.array([2, 0.5]))"
   ]
  },
  {
   "cell_type": "code",
   "execution_count": 8,
   "metadata": {},
   "outputs": [
    {
     "name": "stdout",
     "output_type": "stream",
     "text": [
      "Point found: [[-2.85263123e-01 -9.58449243e-01 -5.76157630e-15]\n",
      " [ 9.58449243e-01 -2.85263123e-01 -6.33023103e-15]\n",
      " [ 4.40158283e-15 -7.30355389e-15  1.00000000e+00]]; iterations run: 61; stopping reason: Gradient norm too small!\n"
     ]
    }
   ],
   "source": [
    "#need to change step size to 0.01 to reproduce results\n",
    "manifold = pymanopt.manifolds.Grassmann(3, 3)\n",
    "\n",
    "def cost(point):\n",
    "  return anp.prod(anp.diag(point))\n",
    "\n",
    "def constraint(point):\n",
    "  return point[-1][-1] - 1\n",
    "\n",
    "result = run_experiment(manifold, cost, [constraint], max_iterations=10_000)"
   ]
  },
  {
   "cell_type": "code",
   "execution_count": 9,
   "metadata": {},
   "outputs": [
    {
     "name": "stdout",
     "output_type": "stream",
     "text": [
      "Point found: [[ 0.02357552 -0.07688319 -0.07032162]\n",
      " [-0.07688319  0.9095618   0.96569604]\n",
      " [-0.07032162  0.96569604  1.03321918]]; iterations run: 20000; stopping reason: Reached max iterations!\n"
     ]
    }
   ],
   "source": [
    "dim = 3\n",
    "manifold = pymanopt.manifolds.SymmetricPositiveDefinite(dim)\n",
    "\n",
    "\n",
    "vec = np.random.randn(dim)\n",
    "\n",
    "def cost(point):\n",
    "  return vec @ point @ vec + anp.linalg.det(point)\n",
    "\n",
    "def constraint(point):\n",
    "  return point[2][1] - 1\n",
    "\n",
    "result = run_experiment(manifold, cost, [constraint], max_iterations=20_000)"
   ]
  },
  {
   "cell_type": "code",
   "execution_count": null,
   "metadata": {},
   "outputs": [],
   "source": []
  }
 ],
 "metadata": {
  "kernelspec": {
   "display_name": "na599",
   "language": "python",
   "name": "python3"
  },
  "language_info": {
   "codemirror_mode": {
    "name": "ipython",
    "version": 3
   },
   "file_extension": ".py",
   "mimetype": "text/x-python",
   "name": "python",
   "nbconvert_exporter": "python",
   "pygments_lexer": "ipython3",
   "version": "3.9.18"
  }
 },
 "nbformat": 4,
 "nbformat_minor": 2
}
