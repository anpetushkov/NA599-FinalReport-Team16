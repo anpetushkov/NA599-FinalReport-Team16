{
 "cells": [
  {
   "cell_type": "code",
   "execution_count": 1,
   "metadata": {},
   "outputs": [
    {
     "name": "stdout",
     "output_type": "stream",
     "text": [
      "Intel MKL WARNING: Support of Intel(R) Streaming SIMD Extensions 4.2 (Intel(R) SSE4.2) enabled only processors has been deprecated. Intel oneAPI Math Kernel Library 2025.0 will require Intel(R) Advanced Vector Extensions (Intel(R) AVX) instructions.\n",
      "Intel MKL WARNING: Support of Intel(R) Streaming SIMD Extensions 4.2 (Intel(R) SSE4.2) enabled only processors has been deprecated. Intel oneAPI Math Kernel Library 2025.0 will require Intel(R) Advanced Vector Extensions (Intel(R) AVX) instructions.\n"
     ]
    }
   ],
   "source": [
    "import autograd.numpy as anp\n",
    "import numpy as np\n",
    "import numpy.typing as npt\n",
    "import pymanopt\n",
    "\n",
    "from pymanopt.autodiff import Function\n",
    "from pymanopt.manifolds.manifold import Manifold\n",
    "from pymanopt.optimizers.optimizer import Optimizer, OptimizerResult\n",
    "\n",
    "import time\n",
    "from typing import Callable, Optional\n",
    "\n",
    "\n",
    "class ManifoldDOE:\n",
    "    def __init__(\n",
    "        self,\n",
    "        manifold: Manifold,\n",
    "        cost: Function,\n",
    "        constraints: list[Function],\n",
    "        euclidean_gradient: Optional[Callable]=None,\n",
    "        riemannean_gradient: Optional[Callable]=None,\n",
    "        euclidean_hessian: Optional[Callable]=None,\n",
    "        preconditioner: Optional[Callable]=None,\n",
    "    ):\n",
    "        self.manifold = manifold\n",
    "        self.cost = cost\n",
    "        self.constraints = constraints\n",
    "        self.euclidean_gradient = euclidean_gradient\n",
    "        self.riemannean_gradient = riemannean_gradient\n",
    "        self.euclidean_hessian = euclidean_hessian\n",
    "        self.preconditioner = preconditioner\n",
    "\n",
    "\n",
    "class ManifoldSolver(Optimizer):\n",
    "    def __init__(\n",
    "        self,\n",
    "        *args,\n",
    "        **kwargs,\n",
    "    ):\n",
    "        super().__init__(*args, **kwargs)\n",
    "\n",
    "    def run(\n",
    "        self,\n",
    "        problem: ManifoldDOE,\n",
    "        initial_point: Optional[npt.NDArray[np.float64]] = None,\n",
    "        **kwargs\n",
    "    ) -> OptimizerResult:\n",
    "        self.dim = problem.manifold.random_point().size\n",
    "        self.shape = problem.manifold.random_point().shape\n",
    "        step_size = max(self._min_step_size, 0.1) if \"step_size\" not in kwargs else kwargs[\"step_size\"]\n",
    "        self.K_h = step_size * anp.eye(len(problem.constraints)) * 10\n",
    "        self.K_theta = step_size * anp.eye(self.dim)\n",
    "        theta = self.get_start(problem, initial_point)\n",
    "        self.path = [theta]\n",
    "        self.n_iters = 0\n",
    "        time_start = time.process_time()\n",
    "        stopping_criterion = \"Converged\"\n",
    "        while True:\n",
    "            if self.n_iters >= self._max_iterations:\n",
    "                stopping_criterion = \"Reached max iterations!\"\n",
    "                break\n",
    "            if time.process_time() - time_start > self._max_time:\n",
    "                stopping_criterion = \"Reached max time!\"\n",
    "                break\n",
    "            (f_theta, h_theta) = self.get_grads(problem, theta)\n",
    "            h_vals = anp.array([constraint(theta) for constraint in problem.constraints])\n",
    "            pi_e = self.get_parameter_vector(f_theta, h_theta, h_vals)\n",
    "            dtheta = -self.K_theta @ (f_theta + h_theta.T @ pi_e)\n",
    "            if anp.linalg.norm(dtheta) < self._min_gradient_norm:\n",
    "                stopping_criterion = \"Gradient norm too small!\"\n",
    "                break\n",
    "            theta = problem.manifold.retraction(\n",
    "                theta, step_size * dtheta.reshape(self.shape)\n",
    "            )\n",
    "            self.path.append(theta)\n",
    "            self.n_iters += 1\n",
    "        self.path = np.asarray(self.path)\n",
    "        return OptimizerResult(\n",
    "            point=self.path[-1],\n",
    "            cost=problem.cost(self.path[-1]),\n",
    "            iterations=self.n_iters,\n",
    "            stopping_criterion=stopping_criterion,\n",
    "            time=time.process_time() - time_start,\n",
    "            log={\"path\": self.path}\n",
    "        )\n",
    "\n",
    "    def get_start(\n",
    "        self, problem: ManifoldDOE, initial_point: Optional[npt.NDArray[np.float64]]\n",
    "    ) -> npt.NDArray[np.float64]:\n",
    "        if initial_point is None:\n",
    "            np.random.seed(599)\n",
    "            return problem.manifold.random_point()\n",
    "        else:\n",
    "            return initial_point\n",
    "\n",
    "    def get_grads(\n",
    "        self, problem: ManifoldDOE, point: npt.NDArray[np.float64]\n",
    "    ) -> tuple[npt.NDArray[np.float64], npt.NDArray[np.float64]]:\n",
    "        f_theta = problem.cost.get_gradient_operator()(point)\n",
    "        f_theta = problem.manifold.projection(point, f_theta).reshape((self.dim))\n",
    "        h_theta = np.array(\n",
    "            [\n",
    "                problem.manifold.projection(\n",
    "                    point, constraint.get_gradient_operator()(point)\n",
    "                ).reshape((self.dim))\n",
    "                for constraint in problem.constraints\n",
    "            ]\n",
    "        )\n",
    "        return (f_theta, h_theta)\n",
    "\n",
    "    def get_parameter_vector(\n",
    "        self,\n",
    "        f_theta: npt.NDArray[np.float64],\n",
    "        h_theta: npt.NDArray[np.float64],\n",
    "        h_vals: npt.NDArray[np.float64],\n",
    "    ) -> npt.NDArray[np.float64]:\n",
    "        M1 = -np.linalg.pinv(h_theta @ self.K_theta @ h_theta.T)\n",
    "        M2 = h_theta @ self.K_theta @ f_theta - self.K_h @ h_vals\n",
    "        return M1 @ M2"
   ]
  },
  {
   "cell_type": "code",
   "execution_count": 2,
   "metadata": {},
   "outputs": [],
   "source": [
    "def run_experiment(manifold: Manifold,\n",
    "                   cost: Function,\n",
    "                   constraints: list[Callable],\n",
    "                   **kwargs):\n",
    "  cost = pymanopt.function.autograd(manifold)(cost)\n",
    "  constraints = [pymanopt.function.autograd(manifold)(c) for c in constraints]\n",
    "  problem = ManifoldDOE(manifold, cost, constraints)\n",
    "  solver = ManifoldSolver(max_iterations=kwargs.get(\"max_iterations\"))\n",
    "  result = solver.run(problem, **kwargs)\n",
    "  print(f\"Point found: {result.point}; iterations run: {result.iterations}; stopping reason: {result.stopping_criterion}\")\n",
    "  return result"
   ]
  },
  {
   "cell_type": "code",
   "execution_count": 3,
   "metadata": {},
   "outputs": [
    {
     "name": "stderr",
     "output_type": "stream",
     "text": [
      "/Users/antonpetushkov/miniforge3/envs/na599/lib/python3.9/site-packages/autograd/tracer.py:14: UserWarning: Output seems independent of input.\n",
      "  warnings.warn(\"Output seems independent of input.\")\n"
     ]
    },
    {
     "name": "stdout",
     "output_type": "stream",
     "text": [
      "Point found: [[-1.00000000e+00  7.00964304e-06  1.36596621e-09]\n",
      " [-7.00964304e-06 -1.00000000e+00 -9.98133813e-09]\n",
      " [ 1.36589625e-09 -9.98134770e-09  1.00000000e+00]]; iterations run: 1314; stopping reason: Gradient norm too small!\n"
     ]
    }
   ],
   "source": [
    "manifold = pymanopt.manifolds.SpecialOrthogonalGroup(3)\n",
    "\n",
    "\n",
    "def cost(point):\n",
    "  return anp.sum(anp.diag(point))\n",
    "\n",
    "\n",
    "def constraint(point):\n",
    "  return point[-1][-1] - 1 # forces result into a xy rotation matrix with bottom right corodinate = 1\n",
    "\n",
    "\n",
    "def constraint2(point):\n",
    "  return 0. # always satisfied\n",
    "\n",
    "\n",
    "result = run_experiment(manifold, cost, [constraint, constraint2], max_iterations=10_000)"
   ]
  },
  {
   "cell_type": "code",
   "execution_count": 4,
   "metadata": {},
   "outputs": [
    {
     "name": "stdout",
     "output_type": "stream",
     "text": [
      "[[-1.00000000e+00  7.00964304e-06  1.36596621e-09]\n",
      " [-7.00964304e-06 -1.00000000e+00 -9.98133813e-09]\n",
      " [ 1.36589625e-09 -9.98134770e-09  1.00000000e+00]] 1314\n"
     ]
    }
   ],
   "source": [
    "manifold = pymanopt.manifolds.SpecialOrthogonalGroup(3)\n",
    "\n",
    "\n",
    "@pymanopt.function.autograd(manifold)\n",
    "def cost(point):\n",
    "  return anp.sum(anp.diag(point))\n",
    "\n",
    "\n",
    "@pymanopt.function.autograd(manifold)\n",
    "def constraint(point):\n",
    "  return point[-1][-1] - 1 # forces result into a xy rotation matrix with bottom right corodinate = 1\n",
    "\n",
    "\n",
    "@pymanopt.function.autograd(manifold)\n",
    "def constraint2(point):\n",
    "  return 0. # always satisfied\n",
    "\n",
    "\n",
    "problem = ManifoldDOE(manifold, cost, [constraint])\n",
    "solver = ManifoldSolver(max_iterations=10_000)\n",
    "result = solver.run(problem)\n",
    "print(result.point, result.iterations)"
   ]
  },
  {
   "cell_type": "code",
   "execution_count": 5,
   "metadata": {},
   "outputs": [
    {
     "name": "stdout",
     "output_type": "stream",
     "text": [
      "[-0.24999939 -0.49999953  0.82915667] 129\n"
     ]
    }
   ],
   "source": [
    "manifold = pymanopt.manifolds.Sphere(3)\n",
    "\n",
    "\n",
    "@pymanopt.function.autograd(manifold)\n",
    "def cost(point: npt.NDArray):\n",
    "  (x, y, z) = point\n",
    "  return 100 * x**2 + (y + (1 - x)**2)**2\n",
    "\n",
    "\n",
    "@pymanopt.function.autograd(manifold)\n",
    "def constraint(point: npt.NDArray):\n",
    "  (x, y, z) = point\n",
    "  return x + y ** 2\n",
    "\n",
    "\n",
    "@pymanopt.function.autograd(manifold)\n",
    "def constraint1(point: npt.NDArray):\n",
    "  (x, y, z) = point\n",
    "  return 0.75 + x + y\n",
    "\n",
    "\n",
    "problem = ManifoldDOE(manifold, cost, [constraint, constraint1])\n",
    "solver = ManifoldSolver(max_iterations=10000)\n",
    "result = solver.run(problem)\n",
    "print(result.point, result.iterations)"
   ]
  },
  {
   "cell_type": "code",
   "execution_count": 6,
   "metadata": {},
   "outputs": [
    {
     "name": "stdout",
     "output_type": "stream",
     "text": [
      "[8.77273753e-06 9.68245837e-01 2.50000000e-01] 923\n"
     ]
    }
   ],
   "source": [
    "manifold = pymanopt.manifolds.Sphere(3)\n",
    "\n",
    "\n",
    "@pymanopt.function.autograd(manifold)\n",
    "def cost(point: npt.NDArray):\n",
    "  (x, y, z) = point\n",
    "  return x**2 - y + z**3\n",
    "\n",
    "\n",
    "@pymanopt.function.autograd(manifold)\n",
    "def constraint(point: npt.NDArray):\n",
    "  (x, y, z) = point\n",
    "  theta = anp.arccos(x / anp.sqrt(x**2 + y**2))\n",
    "  return z - 0.5 * (anp.cos(2 * theta))**2 + 0.25\n",
    "\n",
    "\n",
    "@pymanopt.function.autograd(manifold)\n",
    "def constraint1(point: npt.NDArray):\n",
    "  (x, y, z) = point\n",
    "  return 0.75 + x + y\n",
    "\n",
    "\n",
    "problem = ManifoldDOE(manifold, cost, [constraint])\n",
    "solver = ManifoldSolver(max_iterations=10000)\n",
    "result = solver.run(problem, initial_point=np.asarray([1, 1, 1]) / anp.sqrt(3))\n",
    "print(result.point, result.iterations)"
   ]
  },
  {
   "cell_type": "code",
   "execution_count": 7,
   "metadata": {},
   "outputs": [
    {
     "name": "stdout",
     "output_type": "stream",
     "text": [
      "[1.00000451 1.00000892] 9982\n"
     ]
    }
   ],
   "source": [
    "#need to change step size to 0.01 to reproduce results\n",
    "manifold = pymanopt.manifolds.Euclidean(2)\n",
    "\n",
    "@pymanopt.function.autograd(manifold)\n",
    "def cost(point):\n",
    "  (x, y) = point\n",
    "  return (1 - x)**2 + 100*(y - x**2)**2\n",
    "\n",
    "@pymanopt.function.autograd(manifold)\n",
    "def constraint(point):\n",
    "  (x, y) = point\n",
    "  return (x - 1)**2 + y**2 - 1\n",
    "\n",
    "problem = ManifoldDOE(manifold, cost, [constraint])\n",
    "solver = ManifoldSolver(max_iterations=10000)\n",
    "result = solver.run(problem, np.array([2, 0.5]), step_size=0.01)\n",
    "print(result.point, result.iterations)"
   ]
  },
  {
   "cell_type": "code",
   "execution_count": 8,
   "metadata": {},
   "outputs": [
    {
     "name": "stdout",
     "output_type": "stream",
     "text": [
      "Point found: [1.00000451 1.00000892]; iterations run: 9982; stopping reason: Gradient norm too small!\n"
     ]
    }
   ],
   "source": [
    "#need to change step size to 0.01 to reproduce results\n",
    "manifold = pymanopt.manifolds.Euclidean(2)\n",
    "\n",
    "def cost(point):\n",
    "  (x, y) = point\n",
    "  return (1 - x)**2 + 100*(y - x**2)**2\n",
    "\n",
    "def constraint(point):\n",
    "  (x, y) = point\n",
    "  return (x - 1)**2 + y**2 - 1\n",
    "\n",
    "result = run_experiment(manifold, cost, [constraint], max_iterations=10_000, step_size=0.01, initial_point=np.array([2, 0.5]))"
   ]
  },
  {
   "cell_type": "code",
   "execution_count": 9,
   "metadata": {},
   "outputs": [
    {
     "name": "stdout",
     "output_type": "stream",
     "text": [
      "Point found: [[-2.85263123e-01 -9.58449243e-01 -5.76157630e-15]\n",
      " [ 9.58449243e-01 -2.85263123e-01 -6.33023103e-15]\n",
      " [ 4.40158283e-15 -7.30355389e-15  1.00000000e+00]]; iterations run: 61; stopping reason: Gradient norm too small!\n"
     ]
    }
   ],
   "source": [
    "#need to change step size to 0.01 to reproduce results\n",
    "manifold = pymanopt.manifolds.Grassmann(3, 3)\n",
    "\n",
    "def cost(point):\n",
    "  return anp.prod(anp.diag(point))\n",
    "\n",
    "def constraint(point):\n",
    "  return point[-1][-1] - 1\n",
    "\n",
    "result = run_experiment(manifold, cost, [constraint], max_iterations=10_000)"
   ]
  },
  {
   "cell_type": "code",
   "execution_count": 10,
   "metadata": {},
   "outputs": [
    {
     "name": "stdout",
     "output_type": "stream",
     "text": [
      "Point found: [[ 0.02357552 -0.07688319 -0.07032162]\n",
      " [-0.07688319  0.9095618   0.96569604]\n",
      " [-0.07032162  0.96569604  1.03321918]]; iterations run: 20000; stopping reason: Reached max iterations!\n"
     ]
    }
   ],
   "source": [
    "dim = 3\n",
    "manifold = pymanopt.manifolds.SymmetricPositiveDefinite(dim)\n",
    "\n",
    "\n",
    "vec = np.random.randn(dim)\n",
    "\n",
    "def cost(point):\n",
    "  return vec @ point @ vec + anp.linalg.det(point)\n",
    "\n",
    "def constraint(point):\n",
    "  return point[2][1] - 1\n",
    "\n",
    "result = run_experiment(manifold, cost, [constraint], max_iterations=20_000)"
   ]
  },
  {
   "cell_type": "code",
   "execution_count": null,
   "metadata": {},
   "outputs": [],
   "source": []
  }
 ],
 "metadata": {
  "kernelspec": {
   "display_name": "na599",
   "language": "python",
   "name": "python3"
  },
  "language_info": {
   "codemirror_mode": {
    "name": "ipython",
    "version": 3
   },
   "file_extension": ".py",
   "mimetype": "text/x-python",
   "name": "python",
   "nbconvert_exporter": "python",
   "pygments_lexer": "ipython3",
   "version": "3.9.18"
  }
 },
 "nbformat": 4,
 "nbformat_minor": 2
}
